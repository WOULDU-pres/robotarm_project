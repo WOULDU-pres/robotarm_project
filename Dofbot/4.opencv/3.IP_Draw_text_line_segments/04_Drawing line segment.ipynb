{
 "cells": [
  {
   "cell_type": "markdown",
   "metadata": {},
   "source": [
    "<center><img src=\"../../logo.png\" alt=\"Header\" style=\"width: 800px;\"/></center>"
   ]
  },
  {
   "cell_type": "markdown",
   "metadata": {},
   "source": [
    "@Copyright (C): 2010-2022, Shenzhen Yahboom Tech  \n",
    "@Author: Liusen  \n",
    "@Date: 2020-02-19 14:15:00  \n",
    "@LastEditors: Liusen  \n",
    "@LastEditTime: 2020-02-19 14:15:00   "
   ]
  },
  {
   "cell_type": "code",
   "execution_count": 1,
   "metadata": {},
   "outputs": [
    {
     "name": "stderr",
     "output_type": "stream",
     "text": [
      "Matplotlib created a temporary config/cache directory at /tmp/matplotlib-kmuf_diw because the default path (/home/jetson/.config/matplotlib) is not a writable directory; it is highly recommended to set the MPLCONFIGDIR environment variable to a writable directory, in particular to speed up the import of Matplotlib and to better support multiprocessing.\n"
     ]
    },
    {
     "data": {
      "image/png": "[encoded data removed]",
      "text/plain": [
       "<Figure size 432x288 with 1 Axes>"
      ]
     },
     "metadata": {
      "needs_background": "light"
     },
     "output_type": "display_data"
    }
   ],
   "source": [
    "import cv2\n",
    "import numpy as np\n",
    "import matplotlib.pyplot as plt\n",
    "\n",
    "newImageInfo = (600, 600, 3)\n",
    "dst = np.zeros(newImageInfo,np.uint8)\n",
    "\n",
    "# line\n",
    "# Drawing line segment 1 dst 2 begin 3 end 4 color\n",
    "cv2.line(dst, (100,100), (450,300), (0,0,255))\n",
    "# 5 line w\n",
    "cv2.line(dst, (100,200), (400,200), (0,255,255), 10)\n",
    "# 6 line type\n",
    "cv2.line(dst, (100,300), (400,300), (0,255,0), 10, cv2.LINE_AA)\n",
    "\n",
    "cv2.line(dst, (200,150), (50,250), (25,100,255))\n",
    "cv2.line(dst, (50,250), (400,380), (25,100,255))\n",
    "cv2.line(dst, (400,380), (200,150), (25,100,255))\n",
    "\n",
    "# cv2.imshow('dst',dst)\n",
    "# cv2.waitKey(0)\n",
    "dst = cv2.cvtColor(dst, cv2.COLOR_BGR2RGB)\n",
    "plt.imshow(dst)\n",
    "plt.show()"
   ]
  },
  {
   "cell_type": "code",
   "execution_count": null,
   "metadata": {},
   "outputs": [],
   "source": []
  },
  {
   "cell_type": "code",
   "execution_count": null,
   "metadata": {},
   "outputs": [],
   "source": []
  }
 ],
 "metadata": {
  "kernelspec": {
   "display_name": "Python 3",
   "language": "python",
   "name": "python3"
  },
  "language_info": {
   "codemirror_mode": {
    "name": "ipython",
    "version": 3
   },
   "file_extension": ".py",
   "mimetype": "text/x-python",
   "name": "python",
   "nbconvert_exporter": "python",
   "pygments_lexer": "ipython3",
   "version": "3.6.9"
  }
 },
 "nbformat": 4,
 "nbformat_minor": 4
}
