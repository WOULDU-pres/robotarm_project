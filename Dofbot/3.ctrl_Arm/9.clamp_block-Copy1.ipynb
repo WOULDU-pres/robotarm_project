{
 "cells": [
  {
   "cell_type": "code",
   "execution_count": 197,
   "metadata": {},
   "outputs": [],
   "source": [
    "#!/usr/bin/env python3\n",
    "#coding=utf-8\n",
    "import time\n",
    "from Arm_Lib import Arm_Device\n",
    "\n",
    "# Get DOFBOT object\n",
    "Arm = Arm_Device()\n",
    "time.sleep(.1)\n"
   ]
  },
  {
   "cell_type": "code",
   "execution_count": 198,
   "metadata": {},
   "outputs": [],
   "source": [
    "# enable=1: clamp,=0: release\n",
    "def arm_clamp_block(enable):\n",
    "    if enable == 0:\n",
    "        Arm.Arm_serial_servo_write(6, 60, 400)\n",
    "    else:\n",
    "        Arm.Arm_serial_servo_write(6, 158, 400)\n",
    "    time.sleep(.5)\n",
    "\n",
    "    \n",
    "# Define control DOFBOT function, control No.1-No.5 servo，p=[S1,S2,S3,S4,S5]\n",
    "def arm_move(p, s_time = 500):\n",
    "    for i in range(5):\n",
    "        id = i + 1\n",
    "        if id == 5:\n",
    "            time.sleep(.1)\n",
    "            Arm.Arm_serial_servo_write(id, p[i], int(s_time*1.2))\n",
    "        else :\n",
    "            Arm.Arm_serial_servo_write(id, p[i], s_time)\n",
    "        time.sleep(.01)\n",
    "    time.sleep(s_time/1000)\n",
    "\n",
    "# DOFBOT moves up\n",
    "def arm_move_up():\n",
    "    Arm.Arm_serial_servo_write(2, 90, 1500)\n",
    "    Arm.Arm_serial_servo_write(3, 90, 1500)\n",
    "    Arm.Arm_serial_servo_write(4, 90, 1500)\n",
    "    time.sleep(.1)\n"
   ]
  },
  {
   "cell_type": "code",
   "execution_count": 199,
   "metadata": {},
   "outputs": [],
   "source": [
    "# # Define variable parameters at different locations\n",
    "# p_mould = [90, 130, 0, 0, 90]\n",
    "# p_top = [90, 80, 50, 50, 270]\n",
    "# p_Brown = [90, 53, 33, 36, 270]\n",
    "\n",
    "# p_Yellow = [65, 22, 64, 56, 270]\n",
    "# p_Red = [117, 19, 66, 56, 270]\n",
    "\n",
    "# p_Green = [136, 66, 20, 29, 270]\n",
    "# p_Blue = [44, 66, 20, 28, 270]\n",
    "p_mould =[90,90,90,90,90]\n",
    "p_top = [90,80,50,50,270]\n",
    "p_Brown = [90,53,33,36,270]\n",
    "p_Yellow = [180,53,33,36,270]\n",
    "p_Red = [188,28,68,37,270]\n",
    "p_Red1 = [191,60,30,20,270]\n",
    "p_Red2 = [194,90,0,10,270] #1-1     -1 = front\n",
    "p_Red3 = [172,28,68,37,270] #1-2    -2 = behind\n",
    "p_Red4 = [171,60,30,20,270]\n",
    "p_Red5 = [169,90,0,10,270]\n",
    "p_Red6 = [183,50,37,41,270]\n",
    "p_Red7 = [180,80,18,10,270]\n"
   ]
  },
  {
   "cell_type": "code",
   "execution_count": 200,
   "metadata": {},
   "outputs": [],
   "source": [
    "# Make the DOFBOT move to a position ready to grab\n",
    "arm_clamp_block(0)\n",
    "arm_move(p_mould, 1000)\n",
    "time.sleep(1)\n"
   ]
  },
  {
   "cell_type": "code",
   "execution_count": 201,
   "metadata": {},
   "outputs": [],
   "source": [
    "# Grab a block from the gray block and place it on the red block.\n",
    "# arm_move(p_top, 1000)\n",
    "# arm_move(p_Brown, 1000)\n",
    "# arm_clamp_block(1)\n",
    "\n",
    "# arm_move(p_top, 1000)\n",
    "# arm_move(p_Red, 1000)\n",
    "# arm_clamp_block(0)\n",
    "\n",
    "# arm_move_up()\n",
    "# arm_move(p_mould, 1100)\n",
    "# arm_move(p_top, 1000)\n",
    "# arm_move(p_Brown, 1000)\n",
    "# arm_clamp_block(1)\n",
    "\n",
    "arm_move(p_top, 1000)\n",
    "arm_move(p_Red, 1000)\n",
    "arm_clamp_block(0)\n",
    "\n",
    "arm_move(p_Red, 1000)\n",
    "arm_clamp_block(1)\n",
    "\n",
    "arm_move(p_Red1,1000)\n",
    "arm_clamp_block(0)\n",
    "\n",
    "\n",
    "arm_move(p_Red1,1000)\n",
    "arm_clamp_block(1)\n",
    "\n",
    "\n",
    "arm_move(p_Red2,1000)\n",
    "arm_clamp_block(0)\n",
    "\n",
    "arm_move(p_Red2,1000)\n",
    "arm_clamp_block(1)\n",
    "\n",
    "arm_move(p_Red3,1000)\n",
    "arm_clamp_block(0)\n",
    "\n",
    "arm_move(p_Red3,1000)\n",
    "arm_clamp_block(1)\n",
    "\n",
    "arm_move(p_Red4,1000)\n",
    "arm_clamp_block(0)\n",
    "\n",
    "arm_move(p_Red4,1000)\n",
    "arm_clamp_block(1)\n",
    "\n",
    "arm_move(p_Red5,1000)\n",
    "arm_clamp_block(0)\n",
    "\n",
    "arm_move(p_Red5,1000)\n",
    "arm_clamp_block(1)\n",
    "\n",
    "arm_move(p_Red6,1000)\n",
    "arm_clamp_block(0)\n",
    "\n",
    "arm_move(p_Red6,1000)\n",
    "arm_clamp_block(1)\n",
    "\n",
    "arm_move(p_Red7,1000)\n",
    "arm_clamp_block(0)\n",
    "\n",
    "arm_move(p_Red7,1000)\n",
    "arm_clamp_block(1)\n",
    "time.sleep(1)\n"
   ]
  },
  {
   "cell_type": "code",
   "execution_count": 202,
   "metadata": {},
   "outputs": [
    {
     "ename": "KeyboardInterrupt",
     "evalue": "",
     "output_type": "error",
     "traceback": [
      "\u001b[0;31m---------------------------------------------------------------------------\u001b[0m",
      "\u001b[0;31mKeyboardInterrupt\u001b[0m                         Traceback (most recent call last)",
      "\u001b[0;32m<ipython-input-202-215c2f6df552>\u001b[0m in \u001b[0;36m<module>\u001b[0;34m\u001b[0m\n\u001b[1;32m      1\u001b[0m \u001b[0;31m# Grab a block from the gray block and place it on the yellow block.\u001b[0m\u001b[0;34m\u001b[0m\u001b[0;34m\u001b[0m\u001b[0;34m\u001b[0m\u001b[0m\n\u001b[0;32m----> 2\u001b[0;31m \u001b[0marm_move\u001b[0m\u001b[0;34m(\u001b[0m\u001b[0mp_top\u001b[0m\u001b[0;34m,\u001b[0m \u001b[0;36m1000\u001b[0m\u001b[0;34m)\u001b[0m\u001b[0;34m\u001b[0m\u001b[0;34m\u001b[0m\u001b[0m\n\u001b[0m\u001b[1;32m      3\u001b[0m \u001b[0marm_move\u001b[0m\u001b[0;34m(\u001b[0m\u001b[0mp_Brown\u001b[0m\u001b[0;34m,\u001b[0m \u001b[0;36m1000\u001b[0m\u001b[0;34m)\u001b[0m\u001b[0;34m\u001b[0m\u001b[0;34m\u001b[0m\u001b[0m\n\u001b[1;32m      4\u001b[0m \u001b[0marm_clamp_block\u001b[0m\u001b[0;34m(\u001b[0m\u001b[0;36m1\u001b[0m\u001b[0;34m)\u001b[0m\u001b[0;34m\u001b[0m\u001b[0;34m\u001b[0m\u001b[0m\n\u001b[1;32m      5\u001b[0m \u001b[0;34m\u001b[0m\u001b[0m\n",
      "\u001b[0;32m<ipython-input-198-d920bb1e8b86>\u001b[0m in \u001b[0;36marm_move\u001b[0;34m(p, s_time)\u001b[0m\n\u001b[1;32m     13\u001b[0m         \u001b[0mid\u001b[0m \u001b[0;34m=\u001b[0m \u001b[0mi\u001b[0m \u001b[0;34m+\u001b[0m \u001b[0;36m1\u001b[0m\u001b[0;34m\u001b[0m\u001b[0;34m\u001b[0m\u001b[0m\n\u001b[1;32m     14\u001b[0m         \u001b[0;32mif\u001b[0m \u001b[0mid\u001b[0m \u001b[0;34m==\u001b[0m \u001b[0;36m5\u001b[0m\u001b[0;34m:\u001b[0m\u001b[0;34m\u001b[0m\u001b[0;34m\u001b[0m\u001b[0m\n\u001b[0;32m---> 15\u001b[0;31m             \u001b[0mtime\u001b[0m\u001b[0;34m.\u001b[0m\u001b[0msleep\u001b[0m\u001b[0;34m(\u001b[0m\u001b[0;36m.1\u001b[0m\u001b[0;34m)\u001b[0m\u001b[0;34m\u001b[0m\u001b[0;34m\u001b[0m\u001b[0m\n\u001b[0m\u001b[1;32m     16\u001b[0m             \u001b[0mArm\u001b[0m\u001b[0;34m.\u001b[0m\u001b[0mArm_serial_servo_write\u001b[0m\u001b[0;34m(\u001b[0m\u001b[0mid\u001b[0m\u001b[0;34m,\u001b[0m \u001b[0mp\u001b[0m\u001b[0;34m[\u001b[0m\u001b[0mi\u001b[0m\u001b[0;34m]\u001b[0m\u001b[0;34m,\u001b[0m \u001b[0mint\u001b[0m\u001b[0;34m(\u001b[0m\u001b[0ms_time\u001b[0m\u001b[0;34m*\u001b[0m\u001b[0;36m1.2\u001b[0m\u001b[0;34m)\u001b[0m\u001b[0;34m)\u001b[0m\u001b[0;34m\u001b[0m\u001b[0;34m\u001b[0m\u001b[0m\n\u001b[1;32m     17\u001b[0m         \u001b[0;32melse\u001b[0m \u001b[0;34m:\u001b[0m\u001b[0;34m\u001b[0m\u001b[0;34m\u001b[0m\u001b[0m\n",
      "\u001b[0;31mKeyboardInterrupt\u001b[0m: "
     ]
    }
   ],
   "source": [
    "# Grab a block from the gray block and place it on the yellow block.\n",
    "arm_move(p_top, 1000)\n",
    "arm_move(p_Brown, 1000)\n",
    "arm_clamp_block(1)\n",
    "\n",
    "arm_move(p_top, 1000)\n",
    "arm_move(p_Yellow, 1000)\n",
    "arm_clamp_block(0)\n",
    "\n",
    "\n",
    "arm_move(p_mould, 1000)\n",
    "\n",
    "time.sleep(1)\n"
   ]
  },
  {
   "cell_type": "code",
   "execution_count": null,
   "metadata": {},
   "outputs": [
    {
     "ename": "NameError",
     "evalue": "name 'p_Green' is not defined",
     "output_type": "error",
     "traceback": [
      "\u001b[0;31m---------------------------------------------------------------------------\u001b[0m",
      "\u001b[0;31mNameError\u001b[0m                                 Traceback (most recent call last)",
      "\u001b[0;32m<ipython-input-17-4c4d4df035ad>\u001b[0m in \u001b[0;36m<module>\u001b[0;34m\u001b[0m\n\u001b[1;32m      5\u001b[0m \u001b[0;34m\u001b[0m\u001b[0m\n\u001b[1;32m      6\u001b[0m \u001b[0marm_move\u001b[0m\u001b[0;34m(\u001b[0m\u001b[0mp_top\u001b[0m\u001b[0;34m,\u001b[0m \u001b[0;36m1000\u001b[0m\u001b[0;34m)\u001b[0m\u001b[0;34m\u001b[0m\u001b[0;34m\u001b[0m\u001b[0m\n\u001b[0;32m----> 7\u001b[0;31m \u001b[0marm_move\u001b[0m\u001b[0;34m(\u001b[0m\u001b[0mp_Green\u001b[0m\u001b[0;34m,\u001b[0m \u001b[0;36m1000\u001b[0m\u001b[0;34m)\u001b[0m\u001b[0;34m\u001b[0m\u001b[0;34m\u001b[0m\u001b[0m\n\u001b[0m\u001b[1;32m      8\u001b[0m \u001b[0marm_clamp_block\u001b[0m\u001b[0;34m(\u001b[0m\u001b[0;36m0\u001b[0m\u001b[0;34m)\u001b[0m\u001b[0;34m\u001b[0m\u001b[0;34m\u001b[0m\u001b[0m\n\u001b[1;32m      9\u001b[0m \u001b[0;34m\u001b[0m\u001b[0m\n",
      "\u001b[0;31mNameError\u001b[0m: name 'p_Green' is not defined"
     ]
    }
   ],
   "source": [
    "# Grab a block from the gray block and place it on the green block.\n",
    "arm_move(p_top, 1000)\n",
    "arm_move(p_Brown, 1000)\n",
    "arm_clamp_block(1)\n",
    "\n",
    "arm_move(p_top, 1000)\n",
    "arm_move(p_Green, 1000)\n",
    "arm_clamp_block(0)\n",
    "\n",
    "arm_move_up()\n",
    "arm_move(p_mould, 1100)\n",
    "\n",
    "time.sleep(1)\n"
   ]
  },
  {
   "cell_type": "code",
   "execution_count": null,
   "metadata": {},
   "outputs": [],
   "source": [
    "# Grab a block from the gray block and place it on the blue block.\n",
    "arm_move(p_top, 1000)\n",
    "arm_move(p_Brown, 1000)\n",
    "arm_clamp_block(1)\n",
    "\n",
    "arm_move(p_top, 1000)\n",
    "arm_move(p_Blue, 1000)\n",
    "arm_clamp_block(0)\n",
    "\n",
    "arm_move_up()\n",
    "arm_move(p_mould, 1100)\n",
    "\n",
    "time.sleep(1)\n"
   ]
  },
  {
   "cell_type": "code",
   "execution_count": null,
   "metadata": {},
   "outputs": [],
   "source": [
    "del Arm  # Release DOFBOT object"
   ]
  },
  {
   "cell_type": "code",
   "execution_count": null,
   "metadata": {},
   "outputs": [],
   "source": []
  }
 ],
 "metadata": {
  "kernelspec": {
   "display_name": "Python 3",
   "language": "python",
   "name": "python3"
  },
  "language_info": {
   "codemirror_mode": {
    "name": "ipython",
    "version": 3
   },
   "file_extension": ".py",
   "mimetype": "text/x-python",
   "name": "python",
   "nbconvert_exporter": "python",
   "pygments_lexer": "ipython3",
   "version": "3.6.9"
  }
 },
 "nbformat": 4,
 "nbformat_minor": 4
}
